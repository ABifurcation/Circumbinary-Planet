{
 "cells": [
  {
   "cell_type": "code",
   "execution_count": 3,
   "metadata": {},
   "outputs": [],
   "source": [
    "import numpy as np\n",
    "import matplotlib\n",
    "import matplotlib.pyplot as plt\n",
    "import os\n",
    "from glob import glob\n",
    "from scipy.optimize import fmin\n",
    "from scipy.optimize import curve_fit\n",
    "from scipy.signal import find_peaks\n",
    "from scipy import interpolate"
   ]
  },
  {
   "cell_type": "code",
   "execution_count": 4,
   "metadata": {},
   "outputs": [
    {
     "data": {
      "text/plain": [
       "'001026032'"
      ]
     },
     "execution_count": 4,
     "metadata": {},
     "output_type": "execute_result"
    }
   ],
   "source": [
    "basedir = \"/Users/laote/sdsu/Research/binary/tess_keplerEBs\"\n",
    "basedir2 = \"/Users/laote/sdsu/Research/binary/tess_alldata/Curves\"\n",
    "curvedir = \"/Users/laote/sdsu/Research/binary/tess_alldata/Curves\"\n",
    "\n",
    "lc_list = glob(\"%s/*.txt\" %basedir2)\n",
    "lc_list = sorted(lc_list, key=lambda name: int(name[57:-14]))\n",
    "\n",
    "bbb = \"/home/zlin/research\"\n",
    "bbbcurve = bbb + \"/Curves2\"\n",
    "bbbb = bbb + lc_list[0][53:]\n",
    "bbbbcurve = bbbcurve + lc_list[0][53:]\n",
    "\n",
    "\n",
    "bbbb[23:-14]\n",
    "bbbbcurve[31:-14]"
   ]
  },
  {
   "cell_type": "code",
   "execution_count": 174,
   "metadata": {},
   "outputs": [],
   "source": [
    "def line_func(x, a, b):\n",
    "    return a*x + b\n",
    "\n",
    "def fit_med(datadir):\n",
    "    data = np.genfromtxt(datadir,names=\"time,flux,et,ef\")\n",
    "    med = np.median(data['flux']) \n",
    "    std = np.std(data['flux'])\n",
    "    c = (data['flux'] > (med-std)) & (data['flux'] < (med+std))\n",
    "    para, epara = curve_fit(line_func, data['time'][c], data['flux'][c])\n",
    "    slope = para[0]; inter = para[1]\n",
    "    return slope, inter"
   ]
  },
  {
   "cell_type": "code",
   "execution_count": 175,
   "metadata": {},
   "outputs": [],
   "source": [
    "def fit_peak(datadir, display=False):\n",
    "    data = np.genfromtxt(datadir,names=\"time,flux,et,ef\")\n",
    "    slope, inter = fit_med(datadir)\n",
    "    \n",
    "    time_diff = data['time'][1:] - data['time'][:-1]\n",
    "    error_point = np.argmax(time_diff)\n",
    "    \n",
    "    time = np.append(data['time'][20:error_point-40],data['time'][error_point+40:-20])\n",
    "    flux = np.append(data['flux'][20:error_point-40],data['flux'][error_point+40:-20])\n",
    "    \n",
    "    norm_flux = flux - line_func(time,slope,inter)\n",
    "    med = np.median(norm_flux) \n",
    "    std = np.std(norm_flux)\n",
    "    peaks = find_peaks(-norm_flux, height=-(med-1*std))\n",
    "\n",
    "    peaks_pos = peaks[0]\n",
    "    height = -peaks[1]['peak_heights']\n",
    "    \n",
    "    if len(height) >= 1:\n",
    "        sort_height = sorted(height)\n",
    "        if sort_height[0] <= med-4.5*std:\n",
    "            result = 'win'\n",
    "        elif sort_height[0] >= med-2.5*std:\n",
    "            result = 'lose'\n",
    "        else:\n",
    "            result = 'i dont know'\n",
    "    else:\n",
    "        result = 'lose'\n",
    "\n",
    "#     fittime = []\n",
    "#     for i in range(len(time[peaks_pos])):\n",
    "#         fitx = [];fity = [];\n",
    "#         for j in range(-2,3,1):\n",
    "#             fitx.append(time[peaks_pos+j][i])\n",
    "#             fity.append(norm_flux[peaks_pos+j][i])\n",
    "#         z = np.polyfit(fitx,fity,2)\n",
    "#         func = np.poly1d(z)\n",
    "#         minimum = -z[1]/(2*z[0])\n",
    "#         fittime.append(minimum)\n",
    "\n",
    "    if display == True:\n",
    "\n",
    "        L = len(norm_flux)\n",
    "        yf = np.abs(np.fft.fft(norm_flux))[range(int(L/2))]\n",
    "        xf = (time[2]-time[1])*np.arange(L)[range(int(L/2))]\n",
    "        plt.figure(figsize=(15,5))\n",
    "        plt.subplot(1,3,1)\n",
    "        plt.plot(data['time'],data['flux'],'c.')\n",
    "        plt.plot([time[0],time[-1]],\\\n",
    "                 [(np.median(flux)),(np.median(flux))],'r-')\n",
    "        plt.subplot(1,3,2)\n",
    "        plt.plot(time,norm_flux,'c-')\n",
    "#         plt.plot(fittime,height,'rx')\n",
    "        plt.plot(time[peaks_pos],height,'rx')\n",
    "        plt.plot([time[0],time[-1]],[(med),(med)],'r-')\n",
    "        plt.plot([time[0],time[-1]],[(med-4.5*std),(med-4.5*std)],'r-')\n",
    "\n",
    "        plt.subplot(1,3,3)\n",
    "        plt.plot(xf,yf,'c-')\n",
    "        plt.show()\n",
    "\n",
    "#     return fittime, height, result\n",
    "    return result\n"
   ]
  },
  {
   "cell_type": "code",
   "execution_count": 176,
   "metadata": {},
   "outputs": [],
   "source": [
    "def find_max_slope(datadir,loop=400):\n",
    "    a = 0\n",
    "    for i in range(loop):\n",
    "        slope, inter = fit_med(datadir[i])\n",
    "        if np.abs(slope) > a:\n",
    "            a = np.abs(slope)\n",
    "            w = i\n",
    "    print(a,w)"
   ]
  },
  {
   "cell_type": "code",
   "execution_count": 177,
   "metadata": {},
   "outputs": [
    {
     "name": "stdout",
     "output_type": "stream",
     "text": [
      "/Users/laote/sdsu/Research/binary/tess_alldata/Curves/kid002580872_SEC014_LC.txt\n"
     ]
    },
    {
     "name": "stderr",
     "output_type": "stream",
     "text": [
      "/usr/local/lib/python3.7/site-packages/ipykernel_launcher.py:24: RuntimeWarning: divide by zero encountered in true_divide\n"
     ]
    },
    {
     "data": {
      "image/png": "[encoded data removed]",
      "text/plain": [
       "<Figure size 1080x360 with 3 Axes>"
      ]
     },
     "metadata": {
      "needs_background": "light"
     },
     "output_type": "display_data"
    }
   ],
   "source": [
    "test_curve = lc_list[90]\n",
    "print(lc_list[70])\n",
    "\n",
    "# FFT\n",
    "test = np.genfromtxt(test_curve,names=\"time,flux,et,ef\")\n",
    "slope, inter = fit_med(test_curve)\n",
    "norm_flux = test['flux']-line_func(test['time'],slope,inter)\n",
    "\n",
    "L = len(norm_flux)\n",
    "yf = np.abs(np.fft.fft(norm_flux))[range(int(L/2))]\n",
    "xf = (test['time'][2]-test['time'][1])*np.arange(L)[range(int(L/2))]\n",
    "\n",
    "result = fit_peak(test_curve,display=False)\n",
    "\n",
    "\n",
    "plt.figure(figsize=(15,5))\n",
    "plt.subplot(1,3,1)\n",
    "plt.plot(test['time'],test['flux'],'c.')\n",
    "plt.plot([test['time'][0],test['time'][-1]],\\\n",
    "         [(np.median(test['flux'])),(np.median(test['flux']))],'r-')\n",
    "plt.subplot(1,3,2)\n",
    "plt.plot(test['time'],norm_flux,'r-')\n",
    "plt.subplot(1,3,3)\n",
    "plt.plot(1/xf,yf,'c-')\n",
    "plt.show()"
   ]
  },
  {
   "cell_type": "code",
   "execution_count": 178,
   "metadata": {},
   "outputs": [],
   "source": [
    "new_list = []\n",
    "for j in range(len(lc_list)):\n",
    "    first_sort = np.genfromtxt(lc_list[j],names=\"time,flux,et,ef\")\n",
    "    time_diff = first_sort['time'][1:] - first_sort['time'][:-1]\n",
    "\n",
    "    if (np.max(time_diff) < 2) & (np.sum(time_diff > 0.7) <2):\n",
    "        new_list.append(lc_list[j])\n",
    "np.save(\"new_list.npy\",new_list)"
   ]
  },
  {
   "cell_type": "code",
   "execution_count": 179,
   "metadata": {},
   "outputs": [],
   "source": [
    "# new_list = np.load(\"new_list.npy\")\n",
    "# len(new_list)"
   ]
  },
  {
   "cell_type": "code",
   "execution_count": 180,
   "metadata": {},
   "outputs": [],
   "source": [
    "# win_list = []\n",
    "# lose_list = []\n",
    "# counts = 0\n",
    "# for i in range(len(new_list)):\n",
    "#     result = fit_peak(new_list[i])\n",
    "#     if result == 'win':\n",
    "#         counts += 1\n",
    "#         choise = 0\n",
    "#         win_list.append(new_list[i])\n",
    "#     if result == 'lose':\n",
    "#         choise = 1\n",
    "#         lose_list.append(new_list[i])\n",
    "#     else:\n",
    "#         None\n",
    "\n",
    "# print(len(win_list))\n",
    "# print(len(lose_list))\n",
    "\n",
    "# np.save(\"win_list.npy\",win_list)\n",
    "# np.save(\"lose_list.npy\",lose_list)"
   ]
  },
  {
   "cell_type": "code",
   "execution_count": 181,
   "metadata": {},
   "outputs": [],
   "source": [
    "# fit_peak(win_list[1806],display=True)"
   ]
  },
  {
   "cell_type": "code",
   "execution_count": 182,
   "metadata": {},
   "outputs": [],
   "source": [
    "win_list = np.load(\"win_list.npy\")\n",
    "lose_list = np.load(\"lose_list.npy\")"
   ]
  },
  {
   "cell_type": "code",
   "execution_count": 183,
   "metadata": {},
   "outputs": [],
   "source": [
    "def save_img(datadir,choise=0):\n",
    "    data = np.genfromtxt(datadir,names=\"time,flux,et,ef\")\n",
    "    \n",
    "    time_diff = data['time'][1:] - data['time'][:-1]\n",
    "    error_point = np.argmax(time_diff)\n",
    "    \n",
    "    time = np.append(data['time'][20:error_point-30],data['time'][error_point+30:-20])\n",
    "    flux = np.append(data['flux'][20:error_point-30],data['flux'][error_point+30:-20])\n",
    "    \n",
    "    \n",
    "    norm_flux = (flux - np.median(flux))/(np.max(flux) - np.min(flux))\n",
    "    norm_flux = np.minimum(norm_flux, np.std(norm_flux))\n",
    "    \n",
    "    plt.figure(figsize=(5,5))\n",
    "    plt.plot(time,norm_flux,'k-')\n",
    "    plt.axis('off')\n",
    "    plt.gca().axes.get_yaxis().set_visible(False)\n",
    "    plt.gca().axes.get_xaxis().set_visible(False)\n",
    "    plt.savefig(\"/Users/laote/sdsu/Research/binary/tess_image/%s_%s.jpg\" %(datadir[54:-7],choise))\n",
    "#     plt.savefig(\"/Users/laote/sdsu/Research/binary/tess_image/unknown/%s.jpg\" %(datadir[54:-7]))\n",
    "    plt.show()\n",
    "    \n",
    "\n",
    "    return None"
   ]
  },
  {
   "cell_type": "code",
   "execution_count": 2,
   "metadata": {},
   "outputs": [],
   "source": [
    "# for i in range(30):\n",
    "#     save_img(win_list[i])"
   ]
  },
  {
   "cell_type": "code",
   "execution_count": 1,
   "metadata": {},
   "outputs": [],
   "source": [
    "# for i in range(len(lose_list)):\n",
    "#     save_img(lose_list[i],choise=1)"
   ]
  },
  {
   "cell_type": "code",
   "execution_count": 26,
   "metadata": {},
   "outputs": [],
   "source": [
    "# fit_peak(win_list[1010],display=True)"
   ]
  },
  {
   "cell_type": "code",
   "execution_count": 171,
   "metadata": {},
   "outputs": [
    {
     "data": {
      "text/plain": [
       "'/Users/laote/sdsu/Research/binary/tess_alldata/Curves/kid002997455_SEC014_LC.txt'"
      ]
     },
     "execution_count": 171,
     "metadata": {},
     "output_type": "execute_result"
    },
    {
     "data": {
      "image/png": "[encoded data removed]",
      "text/plain": [
       "<Figure size 432x288 with 1 Axes>"
      ]
     },
     "metadata": {
      "needs_background": "light"
     },
     "output_type": "display_data"
    }
   ],
   "source": [
    "def see_period(datadir):\n",
    "    data = np.genfromtxt(datadir,names=\"time,flux,et,ef\")\n",
    "\n",
    "    \n",
    "    time_diff = data['time'][1:] - data['time'][:-1]\n",
    "    error_point = np.argmax(time_diff)\n",
    "    \n",
    "    time = np.append(data['time'][20:error_point-30],data['time'][error_point+30:-20])\n",
    "    flux = np.append(data['flux'][20:error_point-30],data['flux'][error_point+30:-20])\n",
    "\n",
    "    med = np.median(flux) \n",
    "    std = np.std(flux)\n",
    "    \n",
    "    temp = interpolate.interp1d(time,flux)\n",
    "    new_x = np.arange(np.min(time), np.max(time), 0.1)\n",
    "    norm_flux = temp(new_x)\n",
    "    \n",
    "    L = len(new_x)\n",
    "    yf = np.abs(np.fft.fft(norm_flux))[range(int(L/2))]\n",
    "    xf = (0.1)*np.arange(L)[range(int(L/2))]\n",
    "    \n",
    "    plt.plot(time,-np.exp(-50*flux/med)/np.sum(np.exp(-50*flux/med)),'c')\n",
    "\n",
    "#     plt.plot(1/xf,yf,'c')\n",
    "# #     plt.yscale('log')\n",
    "#     plt.xscale('log')\n",
    "    \n",
    "#     plt.plot(data['time'],data['flux'])\n",
    "#     plt.plot(new_x,norm_flux)\n",
    "    \n",
    "see_period(win_list[50])\n",
    "win_list[70]"
   ]
  },
  {
   "cell_type": "code",
   "execution_count": 98,
   "metadata": {},
   "outputs": [],
   "source": [
    "binary = np.genfromtxt(\"classification.txt\",dtype=str)\n",
    "binary_lc_dir = []\n",
    "for i in range(len(binary)):\n",
    "    binary_lc_dir.append(curvedir + '/' + binary[i][0] + '_LC.txt')"
   ]
  },
  {
   "cell_type": "code",
   "execution_count": null,
   "metadata": {},
   "outputs": [],
   "source": []
  }
 ],
 "metadata": {
  "kernelspec": {
   "display_name": "Python 3",
   "language": "python",
   "name": "python3"
  },
  "language_info": {
   "codemirror_mode": {
    "name": "ipython",
    "version": 3
   },
   "file_extension": ".py",
   "mimetype": "text/x-python",
   "name": "python",
   "nbconvert_exporter": "python",
   "pygments_lexer": "ipython3",
   "version": "3.7.4"
  }
 },
 "nbformat": 4,
 "nbformat_minor": 2
}
